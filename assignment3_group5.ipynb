{
 "cells": [
  {
   "cell_type": "code",
   "execution_count": 1,
   "metadata": {},
   "outputs": [],
   "source": [
    "import networkx as nx\n",
    "import matplotlib.pyplot as plt"
   ]
  },
  {
   "cell_type": "markdown",
   "metadata": {},
   "source": [
    "# 1. Load up the directed multigraph"
   ]
  },
  {
   "cell_type": "code",
   "execution_count": 2,
   "metadata": {
    "scrolled": false
   },
   "outputs": [
    {
     "name": "stdout",
     "output_type": "stream",
     "text": [
      "Name: \n",
      "Type: MultiDiGraph\n",
      "Number of nodes: 151\n",
      "Number of edges: 266\n",
      "Average in degree:   1.7616\n",
      "Average out degree:   1.7616\n"
     ]
    }
   ],
   "source": [
    "def load_directed_multigraph_from_txt_file(txt):\n",
    "    \"\"\" Creates and returns a directed multigraph from the provided text file \"\"\"\n",
    "    \n",
    "    G = nx.read_edgelist(txt, create_using=nx.MultiDiGraph(), nodetype = str, data=((\"weight\", int),))\n",
    "    return G\n",
    "    \n",
    "\n",
    "    \n",
    "G = load_directed_multigraph_from_txt_file(\"./enron.txt\")\n",
    "print(nx.info(G))"
   ]
  },
  {
   "cell_type": "markdown",
   "metadata": {},
   "source": [
    "# 2. How many unique sources did send an email? And how many emails were sent?"
   ]
  },
  {
   "cell_type": "code",
   "execution_count": 3,
   "metadata": {},
   "outputs": [
    {
     "name": "stdout",
     "output_type": "stream",
     "text": [
      "Number of unique sources that did send an email: 151\n",
      "Number of emails that were sent: 266\n"
     ]
    }
   ],
   "source": [
    "def get_number_of_unique_sources_that_sent_an_email(G):\n",
    "    \"\"\" Returns the number of nodes in G, which is equal to the number of unique sources that sent an email\"\"\"\n",
    "    \n",
    "    return len(G)\n",
    "    \n",
    "    \n",
    "def get_number_of_emails_sent_by_unique_sources(G):\n",
    "    \"\"\" Returns the number of edges in G, which is equal to the number of emails sent by unique sources\"\"\"\n",
    "    \n",
    "    return G.number_of_edges()\n",
    "\n",
    "\n",
    "num_of_nodes = get_number_of_unique_sources_that_sent_an_email(G)\n",
    "num_of_edges = get_number_of_emails_sent_by_unique_sources(G)\n",
    "print(F\"Number of unique sources that did send an email: {num_of_nodes}\")\n",
    "print(F\"Number of emails that were sent: {num_of_edges}\")\n"
   ]
  },
  {
   "cell_type": "markdown",
   "metadata": {},
   "source": [
    "# 3. Assume that information to and from the research institute can only be exchanged through emails, When an email is sent to someone inside the institute, a communication channel is created, allowing the sender to provide information to the receiver, but not vice versa. Based on the emails sent on the data, is it possible for information to go from every sender to every other receiver?"
   ]
  },
  {
   "cell_type": "code",
   "execution_count": 4,
   "metadata": {},
   "outputs": [
    {
     "name": "stdout",
     "output_type": "stream",
     "text": [
      "Is this graph strongly connected? False\n"
     ]
    }
   ],
   "source": [
    "\"\"\" If the network is strongly connected, i.e. there is a path between every pair of nodes, \n",
    "    then it is possible for information to go from every sender to every other reciever. \n",
    "    \n",
    "    In this case, the graph is NOT strongly connected, therefore it is NOT possible\n",
    "    for information to go from every sender to every other receiver\n",
    "\"\"\"\n",
    "\n",
    "\n",
    "print(F\"Is this graph strongly connected? {nx.is_strongly_connected(G)}\")"
   ]
  },
  {
   "cell_type": "markdown",
   "metadata": {},
   "source": [
    "# 4. Now assume that a communication channel established by an email allows information to be exchanged both ways. Based on the emails sent on the data, is it possible for information to go from every sender to every other receiver?"
   ]
  },
  {
   "cell_type": "code",
   "execution_count": 5,
   "metadata": {},
   "outputs": [
    {
     "name": "stdout",
     "output_type": "stream",
     "text": [
      "Is this graph weakly connected? True\n"
     ]
    }
   ],
   "source": [
    "\"\"\" If the network is weakly connected, i.e. if replacing all of the network's directed edges with undirected edges\n",
    "    results in a connected undirected graph, then it is possible for information to go from every sender\n",
    "    to every other reciever.\n",
    "    \n",
    "    In this case, the graph IS weakly connected, therefore it is possible \n",
    "    for information to go from every sender to every reciever\n",
    "\"\"\"\n",
    "\n",
    "print(F\"Is this graph weakly connected? {nx.is_weakly_connected(G)}\")"
   ]
  },
  {
   "cell_type": "markdown",
   "metadata": {},
   "source": [
    "# 5. How many nodes are in the largest (in terms of nodes) weakly connected component?"
   ]
  },
  {
   "cell_type": "code",
   "execution_count": 6,
   "metadata": {},
   "outputs": [
    {
     "name": "stdout",
     "output_type": "stream",
     "text": [
      "There are 151 nodes in the largest weakly connected component\n"
     ]
    }
   ],
   "source": [
    "largest_weakly_connected_component =  max(nx.weakly_connected_components(G), key=len) # Find the largest dictionary\n",
    "num_of_nodes = len(largest_weakly_connected_component) # The length of that dictionary will be the number of nodes\n",
    "print(F\"There are {num_of_nodes} nodes in the largest weakly connected component\")"
   ]
  },
  {
   "cell_type": "markdown",
   "metadata": {},
   "source": [
    "# 6. How many nodes are in the largest (in terms of nodes) strongly connected component?"
   ]
  },
  {
   "cell_type": "code",
   "execution_count": 7,
   "metadata": {},
   "outputs": [
    {
     "name": "stdout",
     "output_type": "stream",
     "text": [
      "There are 57 nodes in the largest strongly connected component\n"
     ]
    }
   ],
   "source": [
    "largest_strongly_connected_component = max(nx.strongly_connected_components(G), key=len) # Find the largest dictionary\n",
    "num_of_nodes = len(largest_strongly_connected_component) # The length of that dictionary will be the number of nodes\n",
    "print(F\"There are {num_of_nodes} nodes in the largest strongly connected component\")"
   ]
  },
  {
   "cell_type": "markdown",
   "metadata": {},
   "source": [
    "# 7. Using the function subgraph, find the subgraph of nodes in a largest strongly connected component. Call this graph G_sc. How many nodes are in this graph? "
   ]
  },
  {
   "cell_type": "code",
   "execution_count": 8,
   "metadata": {},
   "outputs": [
    {
     "name": "stdout",
     "output_type": "stream",
     "text": [
      "Name: \n",
      "Type: MultiDiGraph\n",
      "Number of nodes: 57\n",
      "Number of edges: 112\n",
      "Average in degree:   1.9649\n",
      "Average out degree:   1.9649\n",
      "\n",
      "There are 57 nodes in the G_sc\n"
     ]
    }
   ],
   "source": [
    "G_sc = G.subgraph(largest_strongly_connected_component)\n",
    "num_of_nodes = len(G_sc)\n",
    "\n",
    "print(nx.info(G_sc))\n",
    "print(F\"\\nThere are {num_of_nodes} nodes in the G_sc\")"
   ]
  },
  {
   "cell_type": "markdown",
   "metadata": {},
   "source": [
    "# 8. What is the average distance between nodes in G_sc?"
   ]
  },
  {
   "cell_type": "code",
   "execution_count": 9,
   "metadata": {},
   "outputs": [
    {
     "name": "stdout",
     "output_type": "stream",
     "text": [
      "The average distance between the nodes in G_sc is 4.791666666666667\n"
     ]
    }
   ],
   "source": [
    "print(F\"The average distance between the nodes in G_sc is {nx.average_shortest_path_length(G_sc)}\")"
   ]
  },
  {
   "cell_type": "markdown",
   "metadata": {},
   "source": [
    "# 9. What is the largest possible distance between two employees in G_sc?"
   ]
  },
  {
   "cell_type": "code",
   "execution_count": 10,
   "metadata": {},
   "outputs": [
    {
     "name": "stdout",
     "output_type": "stream",
     "text": [
      "The largest possible distance between two employees in G_sc is 12\n"
     ]
    }
   ],
   "source": [
    "print(F\"The largest possible distance between two employees in G_sc is {nx.diameter(G_sc)}\")"
   ]
  },
  {
   "cell_type": "markdown",
   "metadata": {},
   "source": [
    "# 10. What is the set of nodes in G_sc with eccentricity equal to the diameter?"
   ]
  },
  {
   "cell_type": "code",
   "execution_count": 11,
   "metadata": {},
   "outputs": [
    {
     "name": "stdout",
     "output_type": "stream",
     "text": [
      "The set of nodes in G_sc with eccentricity equal to the diameter is:\n",
      " ['343253', '343120']\n"
     ]
    }
   ],
   "source": [
    "# This list comprehension returns the nodes with eccentricity equal to the diameter\n",
    "set_of_nodes_with_eccentricity_equal_to_diameter = [\n",
    "    node for node in nx.eccentricity(G_sc) if nx.eccentricity(G_sc)[node] == nx.diameter(G_sc)\n",
    "]\n",
    "    \n",
    "print(F\"The set of nodes in G_sc with eccentricity equal to the diameter is:\\n {set_of_nodes_with_eccentricity_equal_to_diameter}\")"
   ]
  },
  {
   "cell_type": "markdown",
   "metadata": {},
   "source": [
    "# 11. What is the set of node(s) in G_sc with eccentricity equal to the radius? How many nodes are connected to this node?"
   ]
  },
  {
   "cell_type": "code",
   "execution_count": null,
   "metadata": {},
   "outputs": [],
   "source": []
  },
  {
   "cell_type": "markdown",
   "metadata": {},
   "source": [
    "# 12. Which node in G_sc is connected to the most other nodes by a shortest path of length equal to the diameter of G_sc? How many nodes are connected to this node?"
   ]
  },
  {
   "cell_type": "code",
   "execution_count": null,
   "metadata": {},
   "outputs": [],
   "source": []
  },
  {
   "cell_type": "markdown",
   "metadata": {},
   "source": [
    "# 13. Suppose you want to prevent communication from flowing to the node that you found in the previous question from any node in the center of G_sc, what is the smallest number of nodes you would need to remove from the graph (you're not allowed to remove the node from the previous question or the center nodes)?"
   ]
  },
  {
   "cell_type": "code",
   "execution_count": null,
   "metadata": {},
   "outputs": [],
   "source": []
  },
  {
   "cell_type": "markdown",
   "metadata": {},
   "source": [
    "# 14. Construct an undirected graph G_un using G_sc (you can ignore the attributes)."
   ]
  },
  {
   "cell_type": "code",
   "execution_count": null,
   "metadata": {},
   "outputs": [],
   "source": []
  },
  {
   "cell_type": "markdown",
   "metadata": {},
   "source": [
    "# 15. What is the transitivity and average clustering coefficient of graph G_un?"
   ]
  },
  {
   "cell_type": "code",
   "execution_count": null,
   "metadata": {},
   "outputs": [],
   "source": []
  }
 ],
 "metadata": {
  "kernelspec": {
   "display_name": "Python 3",
   "language": "python",
   "name": "python3"
  },
  "language_info": {
   "codemirror_mode": {
    "name": "ipython",
    "version": 3
   },
   "file_extension": ".py",
   "mimetype": "text/x-python",
   "name": "python",
   "nbconvert_exporter": "python",
   "pygments_lexer": "ipython3",
   "version": "3.8.5"
  }
 },
 "nbformat": 4,
 "nbformat_minor": 4
}
