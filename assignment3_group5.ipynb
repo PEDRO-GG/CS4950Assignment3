{
 "cells": [
  {
   "cell_type": "code",
   "execution_count": 1,
   "metadata": {},
   "outputs": [],
   "source": [
    "import networkx as nx\n",
    "import matplotlib.pyplot as plt"
   ]
  },
  {
   "cell_type": "markdown",
   "metadata": {},
   "source": [
    "# 1. Load up the directed multigraph"
   ]
  },
  {
   "cell_type": "code",
   "execution_count": 2,
   "metadata": {
    "scrolled": false
   },
   "outputs": [
    {
     "name": "stdout",
     "output_type": "stream",
     "text": [
      "Name: \n",
      "Type: MultiDiGraph\n",
      "Number of nodes: 265214\n",
      "Number of edges: 420045\n",
      "Average in degree:   1.5838\n",
      "Average out degree:   1.5838\n"
     ]
    }
   ],
   "source": [
    "def load_directed_multigraph_from_txt_file(txt):\n",
    "    \"\"\" Creates and loads a graph from  \"\"\"\n",
    "    G = nx.read_edgelist(txt, create_using=nx.MultiDiGraph(), nodetype = str)\n",
    "    print(nx.info(G))\n",
    "    \n",
    "\n",
    "    \n",
    "load_directed_multigraph_from_txt_file(\"./email-EuAll.txt\")\n",
    "\n"
   ]
  },
  {
   "cell_type": "markdown",
   "metadata": {},
   "source": [
    "# 2. How many unique sources did send an email? And how many emails were sent?"
   ]
  },
  {
   "cell_type": "code",
   "execution_count": 3,
   "metadata": {},
   "outputs": [],
   "source": [
    "def retrive_number_of_unique_sources_that_sent_an_email():\n",
    "    pass\n",
    "def retrive_number_of_emails_sent_by_unique_sources():\n",
    "    pass"
   ]
  },
  {
   "cell_type": "code",
   "execution_count": null,
   "metadata": {},
   "outputs": [],
   "source": []
  }
 ],
 "metadata": {
  "kernelspec": {
   "display_name": "Python 3",
   "language": "python",
   "name": "python3"
  },
  "language_info": {
   "codemirror_mode": {
    "name": "ipython",
    "version": 3
   },
   "file_extension": ".py",
   "mimetype": "text/x-python",
   "name": "python",
   "nbconvert_exporter": "python",
   "pygments_lexer": "ipython3",
   "version": "3.8.5"
  }
 },
 "nbformat": 4,
 "nbformat_minor": 4
}
